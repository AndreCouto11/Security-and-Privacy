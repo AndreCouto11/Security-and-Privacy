{
  "nbformat": 4,
  "nbformat_minor": 0,
  "metadata": {
    "colab": {
      "provenance": [],
      "authorship_tag": "ABX9TyMiSo259m32MJck9hwt6pij",
      "include_colab_link": true
    },
    "kernelspec": {
      "name": "python3",
      "display_name": "Python 3"
    },
    "language_info": {
      "name": "python"
    }
  },
  "cells": [
    {
      "cell_type": "markdown",
      "metadata": {
        "id": "view-in-github",
        "colab_type": "text"
      },
      "source": [
        "<a href=\"https://colab.research.google.com/github/m4chn/sp-projeto/blob/main/dataPrivacy.ipynb\" target=\"_parent\"><img src=\"https://colab.research.google.com/assets/colab-badge.svg\" alt=\"Open In Colab\"/></a>"
      ]
    },
    {
      "cell_type": "code",
      "source": [
        "! pip install python-dp"
      ],
      "metadata": {
        "colab": {
          "base_uri": "https://localhost:8080/"
        },
        "id": "aCV_xuElnSRv",
        "outputId": "4c7ec7ef-2ea1-4ddd-c85f-5a0c57f63a85"
      },
      "execution_count": 64,
      "outputs": [
        {
          "output_type": "stream",
          "name": "stdout",
          "text": [
            "Looking in indexes: https://pypi.org/simple, https://us-python.pkg.dev/colab-wheels/public/simple/\n",
            "Requirement already satisfied: python-dp in /usr/local/lib/python3.8/dist-packages (1.1.1)\n"
          ]
        }
      ]
    },
    {
      "cell_type": "code",
      "execution_count": 65,
      "metadata": {
        "id": "XH5idJJIm5BQ"
      },
      "outputs": [],
      "source": [
        "import pandas as pd\n",
        "import numpy as np\n",
        "import seaborn as sb\n",
        "import pydp as dp\n",
        "from pydp.algorithms.laplacian import BoundedSum, BoundedMean, Count"
      ]
    },
    {
      "cell_type": "code",
      "source": [
        "def add_noise(s,sensitivity,epsilon):\n",
        "    return s+np.random.laplace(loc=0,scale=sensitivity/epsilon)\n",
        "\n",
        "\n",
        "def percent_error(orig,est):\n",
        "    return ((orig-est)/orig)*100\n"
      ],
      "metadata": {
        "id": "Lt7yVofcm7bC"
      },
      "execution_count": 66,
      "outputs": []
    },
    {
      "cell_type": "code",
      "source": [
        "data = pd.read_csv('infringement_dataset_v2.csv')\n",
        "#print(data)\n",
        "data = data.fillna(0)"
      ],
      "metadata": {
        "id": "JoKP7cuSnCpP"
      },
      "execution_count": 67,
      "outputs": []
    },
    {
      "cell_type": "code",
      "source": [
        "def dp_count(tipo):\n",
        "    print(\"COUNT:\\n\")\n",
        "    orig_count = len(data.query('infringed==1')[tipo])\n",
        "    dp_count = add_noise(orig_count,1,0.01)\n",
        "    print(orig_count,dp_count,percent_error(orig_count,dp_count))\n",
        "    print(\"PYDP COUNT\\n\")\n",
        "    x = Count(0.01)\n",
        "    pydp_count = x.quick_result(list(data.query('infringed==1')[tipo].astype(int)))\n",
        "    print(orig_count,pydp_count,percent_error(orig_count,pydp_count))\n",
        "    "
      ],
      "metadata": {
        "id": "TrxGrUQ8m9MS"
      },
      "execution_count": 68,
      "outputs": []
    },
    {
      "cell_type": "code",
      "source": [
        "def dp_sum(query):\n",
        "    print(\"\\nSum: \\n\")\n",
        "    orig_sum= data.query('infringed==1')[query].sum()\n",
        "    dp_sum = add_noise(data.query('infringed==1')[query].sum(),data.query('infringed==1')[query].max(),0.01)\n",
        "    print(orig_sum,dp_sum,percent_error(orig_sum,dp_sum))\n",
        "    print(\"\\nPYDP SUM\\n\")\n",
        "    x = BoundedSum(epsilon=0.2,delta=0,dtype=\"float\")\n",
        "    pydp_sum = x.quick_result(list(data.query('infringed==1')[query]))\n",
        "    print(orig_sum,pydp_sum,percent_error(orig_sum,pydp_sum))"
      ],
      "metadata": {
        "id": "Vus2B7VOm-9k"
      },
      "execution_count": 69,
      "outputs": []
    },
    {
      "cell_type": "code",
      "source": [
        "def dp_mean(query):\n",
        "    print(\"\\n\\nMean: \\n\\n\")\n",
        "    origin = data.query('infringed==1')[query]\n",
        "    origin_mean = origin.mean()\n",
        "    dp_mean = add_noise(origin.sum(),origin.max(),0.01)/add_noise(len(origin),1,0.01)\n",
        "    print(origin_mean,dp_mean,percent_error(origin_mean,dp_mean))\n",
        "\n",
        "def dp_mean_bib(query):\n",
        "    print(\"\\nPYDP Mean\\n\")\n",
        "    origin = data.query('infringed==1')[query]\n",
        "    origin_mean = origin.mean()\n",
        "    x = BoundedMean(0.1)\n",
        "    pydp_mean = x.quick_result(list(origin.astype(int)))\n",
        "    print(origin_mean,pydp_mean,percent_error(origin_mean,pydp_mean))"
      ],
      "metadata": {
        "id": "tE8vo9UpnAzR"
      },
      "execution_count": 70,
      "outputs": []
    },
    {
      "cell_type": "code",
      "source": [
        "dp_count('past_avg_amt_credit')\n",
        "dp_sum('past_avg_amt_credit')\n",
        "dp_mean('past_avg_amt_credit')\n",
        "dp_mean_bib('past_avg_amt_credit')"
      ],
      "metadata": {
        "colab": {
          "base_uri": "https://localhost:8080/"
        },
        "id": "FpAK88QrnENg",
        "outputId": "b7c23337-e935-4f5d-d2b3-ac99174d484c"
      },
      "execution_count": 71,
      "outputs": [
        {
          "output_type": "stream",
          "name": "stdout",
          "text": [
            "COUNT:\n",
            "\n",
            "4685 4607.799728107734 1.6478179699523126\n",
            "PYDP COUNT\n",
            "\n",
            "4685 4763 -1.6648879402347918\n",
            "\n",
            "Sum: \n",
            "\n",
            "731913621.7887328 910031977.8655331 -24.335980472872563\n",
            "\n",
            "PYDP SUM\n",
            "\n",
            "731913621.7887328 594372826.9490967 18.791943577098404\n",
            "\n",
            "\n",
            "Mean: \n",
            "\n",
            "\n",
            "156224.89259097818 187419.26720361089 -19.96760829550037\n",
            "\n",
            "PYDP Mean\n",
            "\n",
            "156224.89259097818 136893.79685095575 12.373889601981892\n"
          ]
        }
      ]
    },
    {
      "cell_type": "code",
      "source": [
        "dp_count('past_avg_amt_application')\n",
        "dp_sum('past_avg_amt_application')\n",
        "dp_mean('past_avg_amt_application')\n",
        "dp_mean_bib('past_avg_amt_application')"
      ],
      "metadata": {
        "colab": {
          "base_uri": "https://localhost:8080/"
        },
        "id": "511qmbasC7sl",
        "outputId": "22ad639b-d5f1-4496-c466-c26ff7540608"
      },
      "execution_count": 72,
      "outputs": [
        {
          "output_type": "stream",
          "name": "stdout",
          "text": [
            "COUNT:\n",
            "\n",
            "4685 4521.943580339919 3.480393162435022\n",
            "PYDP COUNT\n",
            "\n",
            "4685 4722 -0.7897545357524013\n",
            "\n",
            "Sum: \n",
            "\n",
            "648494129.5669813 643372863.4324307 0.7897166529433647\n",
            "\n",
            "PYDP SUM\n",
            "\n",
            "648494129.5669813 549272126.9428978 15.300370211575698\n",
            "\n",
            "\n",
            "Mean: \n",
            "\n",
            "\n",
            "138419.23790116998 132854.4711497399 4.020226404803121\n",
            "\n",
            "PYDP Mean\n",
            "\n",
            "138419.23790116998 125521.50000120392 9.317879577674686\n"
          ]
        }
      ]
    },
    {
      "cell_type": "code",
      "source": [
        "dp_count('age')\n",
        "dp_sum('age')\n",
        "dp_mean('age')\n",
        "dp_mean_bib('age')"
      ],
      "metadata": {
        "colab": {
          "base_uri": "https://localhost:8080/"
        },
        "id": "Z0hcdX5ZkB-r",
        "outputId": "86ac1cda-9927-4d6f-e098-2b63400ab0f9"
      },
      "execution_count": 73,
      "outputs": [
        {
          "output_type": "stream",
          "name": "stdout",
          "text": [
            "COUNT:\n",
            "\n",
            "4685 4551.126550624897 2.8574909151569394\n",
            "PYDP COUNT\n",
            "\n",
            "4685 4750 -1.3874066168623265\n",
            "\n",
            "Sum: \n",
            "\n",
            "188506.0 203726.66500247899 -8.074366334482184\n",
            "\n",
            "PYDP SUM\n",
            "\n",
            "188506.0 187701.35992036108 0.426851176959312\n",
            "\n",
            "\n",
            "Mean: \n",
            "\n",
            "\n",
            "40.236072572038424 44.68054862966607 -11.045998710908684\n",
            "\n",
            "PYDP Mean\n",
            "\n",
            "40.236072572038424 39.942929102993176 0.7285588535521337\n"
          ]
        }
      ]
    },
    {
      "cell_type": "code",
      "source": [
        "dp_count('num_children')\n",
        "dp_sum('num_children')\n",
        "dp_mean('num_children')"
      ],
      "metadata": {
        "colab": {
          "base_uri": "https://localhost:8080/"
        },
        "id": "-yhR1f8BR8pf",
        "outputId": "b3e9c105-6fb9-48d0-ae75-57e0fbab3046"
      },
      "execution_count": 74,
      "outputs": [
        {
          "output_type": "stream",
          "name": "stdout",
          "text": [
            "COUNT:\n",
            "\n",
            "4685 4625.4676661402455 1.2707008294504707\n",
            "PYDP COUNT\n",
            "\n",
            "4685 4790 -2.2411953041622197\n",
            "\n",
            "Sum: \n",
            "\n",
            "2248 1879.9093632925285 16.374138643570795\n",
            "\n",
            "PYDP SUM\n",
            "\n",
            "2248 1587.3550885138393 29.388118838352344\n",
            "\n",
            "\n",
            "Mean: \n",
            "\n",
            "\n",
            "0.47982924226254003 1.1305557197384142 -135.6162609864088\n"
          ]
        }
      ]
    }
  ]
}